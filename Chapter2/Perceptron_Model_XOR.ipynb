{
 "cells": [
  {
   "cell_type": "markdown",
   "metadata": {},
   "source": [
    "# Import the necessary packages."
   ]
  },
  {
   "cell_type": "code",
   "execution_count": 3,
   "metadata": {},
   "outputs": [],
   "source": [
    "import torch \n",
    "from torch import nn, optim \n",
    "from torch.autograd import Variable \n",
    "from torch.utils.data import DataLoader\n",
    "from torchmetrics.functional import accuracy\n",
    "\n",
    "import pytorch_lightning as pl \n",
    "from pytorch_lightning.callbacks import ModelCheckpoint"
   ]
  },
  {
   "cell_type": "code",
   "execution_count": 4,
   "metadata": {},
   "outputs": [
    {
     "name": "stdout",
     "output_type": "stream",
     "text": [
      "torch version:  1.12.1+cu116\n",
      "pytorch lightning version:  1.7.7\n"
     ]
    }
   ],
   "source": [
    "print('torch version: ', torch.__version__)\n",
    "print('pytorch lightning version: ', pl.__version__)"
   ]
  },
  {
   "cell_type": "code",
   "execution_count": 5,
   "metadata": {},
   "outputs": [],
   "source": [
    "xor_input = [\n",
    "    Variable(torch.Tensor([0, 0])),\n",
    "    Variable(torch.Tensor([0, 1])),\n",
    "    Variable(torch.Tensor([1, 0])),\n",
    "    Variable(torch.Tensor([1, 1]))\n",
    "]"
   ]
  },
  {
   "cell_type": "code",
   "execution_count": 6,
   "metadata": {},
   "outputs": [],
   "source": [
    "xor_target = [\n",
    "    Variable(torch.Tensor([0])),\n",
    "    Variable(torch.Tensor([1])),\n",
    "    Variable(torch.Tensor([1])),\n",
    "    Variable(torch.Tensor([0]))\n",
    "]"
   ]
  },
  {
   "cell_type": "code",
   "execution_count": 7,
   "metadata": {},
   "outputs": [],
   "source": [
    "xor_data = list(zip(xor_input, xor_target))\n",
    "train_loader = DataLoader(xor_data, batch_size=1000)"
   ]
  },
  {
   "cell_type": "code",
   "execution_count": 39,
   "metadata": {},
   "outputs": [],
   "source": [
    "class XORModel(pl.LightningModule):\n",
    "    def __init__(self):\n",
    "        super(XORModel, self).__init__()\n",
    "\n",
    "        self.input_layer = nn.Linear(2, 4)\n",
    "        self.output_layer = nn.Linear(4, 1)\n",
    "\n",
    "        self.sigmoid = nn.Sigmoid()\n",
    "        self.loss = nn.MSELoss()\n",
    "    \n",
    "    def forward(self, x):\n",
    "        x = self.input_layer(x)\n",
    "        x = self.sigmoid(x)\n",
    "        x = self.output_layer(x)\n",
    "        return x\n",
    "    \n",
    "    def configure_optimizers(self):\n",
    "        params = self.parameters()\n",
    "        optimizer = optim.Adam(params=params, lr=0.01)\n",
    "        return optimizer\n",
    "    \n",
    "    def training_step(self, batch, batch_idx):\n",
    "        xor_input, xor_target = batch \n",
    "        outputs = self(xor_input)\n",
    "        loss = self.loss(outputs, xor_target)\n",
    "        return loss "
   ]
  },
  {
   "cell_type": "code",
   "execution_count": 46,
   "metadata": {},
   "outputs": [
    {
     "name": "stderr",
     "output_type": "stream",
     "text": [
      "GPU available: True (cuda), used: False\n",
      "TPU available: False, using: 0 TPU cores\n",
      "IPU available: False, using: 0 IPUs\n",
      "HPU available: False, using: 0 HPUs\n",
      "\n",
      "  | Name         | Type    | Params\n",
      "-----------------------------------------\n",
      "0 | input_layer  | Linear  | 12    \n",
      "1 | output_layer | Linear  | 5     \n",
      "2 | sigmoid      | Sigmoid | 0     \n",
      "3 | loss         | MSELoss | 0     \n",
      "-----------------------------------------\n",
      "17        Trainable params\n",
      "0         Non-trainable params\n",
      "17        Total params\n",
      "0.000     Total estimated model params size (MB)\n"
     ]
    },
    {
     "data": {
      "application/vnd.jupyter.widget-view+json": {
       "model_id": "31b39bfd44044bc89070add9b2295620",
       "version_major": 2,
       "version_minor": 0
      },
      "text/plain": [
       "Training: 0it [00:00, ?it/s]"
      ]
     },
     "metadata": {},
     "output_type": "display_data"
    },
    {
     "name": "stderr",
     "output_type": "stream",
     "text": [
      "`Trainer.fit` stopped: `max_epochs=1000` reached.\n"
     ]
    }
   ],
   "source": [
    "checkpoint_callback = ModelCheckpoint()\n",
    "model = XORModel()\n",
    "trainer = pl.Trainer(default_root_dir='xor_model_ckpts' , max_epochs=1000, callbacks=[checkpoint_callback])\n",
    "trainer.fit(model, train_dataloaders=train_loader)"
   ]
  },
  {
   "cell_type": "code",
   "execution_count": 12,
   "metadata": {},
   "outputs": [
    {
     "name": "stdout",
     "output_type": "stream",
     "text": [
      "xor_model/lightning_logs/version_0/checkpoints/epoch=499-step=500.ckpt\n"
     ]
    }
   ],
   "source": [
    "print(checkpoint_callback.best_model_path)"
   ]
  },
  {
   "cell_type": "code",
   "execution_count": 48,
   "metadata": {},
   "outputs": [
    {
     "name": "stdout",
     "output_type": "stream",
     "text": [
      "xor_model/lightning_logs/version_1/checkpoints/epoch=999-step=1000.ckpt\n",
      "[0, 0] 0\n",
      "[0, 1] 1\n",
      "[1, 0] 1\n",
      "[1, 1] 0\n"
     ]
    }
   ],
   "source": [
    "print(checkpoint_callback.best_model_path)\n",
    "\n",
    "train_model = model.load_from_checkpoint(checkpoint_path=checkpoint_callback.best_model_path)\n",
    "test_loader = DataLoader(xor_input, batch_size=1)\n",
    "\n",
    "for batch in test_loader:\n",
    "    preds = train_model(batch)\n",
    "    for i in range(batch.shape[0]):\n",
    "        print([int(batch[i][0]),int(batch[i][1])], int(preds[i].round()))"
   ]
  },
  {
   "cell_type": "code",
   "execution_count": 47,
   "metadata": {},
   "outputs": [
    {
     "name": "stdout",
     "output_type": "stream",
     "text": [
      "xor_model/lightning_logs/version_1/checkpoints/epoch=999-step=1000.ckpt\n",
      "Total accuracy for 100 iterations:  1.0\n"
     ]
    }
   ],
   "source": [
    "print(checkpoint_callback.best_model_path)\n",
    "\n",
    "train_model = model.load_from_checkpoint(checkpoint_path=checkpoint_callback.best_model_path)\n",
    "total_accuracy = []\n",
    "for xor_input, xor_target in train_loader:\n",
    "    for i in range(100):\n",
    "        output_tensor = train_model(xor_input)\n",
    "        test_accuracy = accuracy(output_tensor, xor_target.round().int())\n",
    "        total_accuracy.append(test_accuracy)\n",
    "total_accuracy = torch.mean(torch.stack(total_accuracy))\n",
    "print(\"Total accuracy for 100 iterations: \", total_accuracy.item())"
   ]
  }
 ],
 "metadata": {
  "kernelspec": {
   "display_name": "Python 3.9.13 ('pl')",
   "language": "python",
   "name": "python3"
  },
  "language_info": {
   "codemirror_mode": {
    "name": "ipython",
    "version": 3
   },
   "file_extension": ".py",
   "mimetype": "text/x-python",
   "name": "python",
   "nbconvert_exporter": "python",
   "pygments_lexer": "ipython3",
   "version": "3.7.13"
  },
  "orig_nbformat": 4,
  "vscode": {
   "interpreter": {
    "hash": "2c96765a009421011e24dd9d2f48d8665e98f4ec11c58c7b902d0fcdd52fc0ce"
   }
  }
 },
 "nbformat": 4,
 "nbformat_minor": 2
}
